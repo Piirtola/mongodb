{
 "cells": [
  {
   "cell_type": "code",
   "execution_count": 126,
   "metadata": {
    "collapsed": true
   },
   "outputs": [],
   "source": [
    "import nag4py.g13 as g13\n",
    "import pandas as pd\n",
    "import numpy as np\n",
    "import nag4py.util as util\n",
    "import matplotlib.pyplot as plt\n",
    "import nag4py.e01 as e01"
   ]
  },
  {
   "cell_type": "markdown",
   "metadata": {},
   "source": [
    "###Read in data from database file"
   ]
  },
  {
   "cell_type": "code",
   "execution_count": 127,
   "metadata": {
    "collapsed": false
   },
   "outputs": [],
   "source": [
    "data = pd.read_json('yahoo.json')"
   ]
  },
  {
   "cell_type": "markdown",
   "metadata": {},
   "source": [
    "###Set the price and the date"
   ]
  },
  {
   "cell_type": "code",
   "execution_count": 128,
   "metadata": {
    "collapsed": false
   },
   "outputs": [],
   "source": [
    "price = data.Close.sort_index().values\n",
    "date = data.index.order()"
   ]
  },
  {
   "cell_type": "markdown",
   "metadata": {},
   "source": [
    "###Determine all the dates between the first and last piece of data"
   ]
  },
  {
   "cell_type": "code",
   "execution_count": 129,
   "metadata": {
    "collapsed": true
   },
   "outputs": [],
   "source": [
    "all_dates = pd.date_range(date[0], date[-1])"
   ]
  },
  {
   "cell_type": "markdown",
   "metadata": {},
   "source": [
    "###Reindex the data to include the missing dates"
   ]
  },
  {
   "cell_type": "code",
   "execution_count": 130,
   "metadata": {
    "collapsed": false
   },
   "outputs": [],
   "source": [
    "all_data = data.reindex(all_dates)"
   ]
  },
  {
   "cell_type": "markdown",
   "metadata": {},
   "source": [
    "###Determine the missing dates"
   ]
  },
  {
   "cell_type": "code",
   "execution_count": 131,
   "metadata": {
    "collapsed": false
   },
   "outputs": [],
   "source": [
    "missing_dates = all_dates.difference(date)"
   ]
  },
  {
   "cell_type": "markdown",
   "metadata": {},
   "source": [
    "###Define a function to reorder the data so that the points closest to xi are first"
   ]
  },
  {
   "cell_type": "code",
   "execution_count": 132,
   "metadata": {
    "collapsed": false
   },
   "outputs": [],
   "source": [
    "def reorder(x, y, xi):\n",
    "    distance = abs(x - xi)\n",
    "    distance_sort = distance.argsort()\n",
    "    sorted_x = []\n",
    "    sorted_y = []\n",
    "    stop_next = False\n",
    "    while True:\n",
    "        #Use only 14 points\n",
    "        for i in range(0, 14):\n",
    "            if distance_sort[i] == 0:\n",
    "                if not pd.isnull(y[distance_sort[i]]):\n",
    "                    sorted_x.append(x[distance_sort[i]])\n",
    "                    sorted_y.append(y[distance_sort[i]])             \n",
    "                if len(sorted_x) > 1:\n",
    "                    break\n",
    "                else:\n",
    "                    stop_next = True\n",
    "            elif distance_sort[i] == len(x)-1:\n",
    "                if not pd.isnull(y[distance_sort[i]]):\n",
    "                    sorted_x.append(x[distance_sort[i]])\n",
    "                    sorted_y.append(y[distance_sort[i]])\n",
    "                if len(sorted_x) > 1:\n",
    "                    break\n",
    "                else:\n",
    "                    stop_next = True\n",
    "            else:\n",
    "                if not pd.isnull(y[distance_sort[i]]):\n",
    "                    sorted_x.append(x[distance_sort[i]])\n",
    "                    sorted_y.append(y[distance_sort[i]])\n",
    "                if stop_next:\n",
    "                    break\n",
    "        break\n",
    "    #return only 4 points to reduce oscillations\n",
    "    return sorted_x[0:4], sorted_y[0:4]"
   ]
  },
  {
   "cell_type": "markdown",
   "metadata": {},
   "source": [
    "###Define a function to interpolate the data at the missing points"
   ]
  },
  {
   "cell_type": "code",
   "execution_count": 133,
   "metadata": {
    "collapsed": false
   },
   "outputs": [],
   "source": [
    "def interpolate(x, y, xi):\n",
    "    x, y = reorder(x, y, xi)\n",
    "    n = len(x)-1\n",
    "    a = np.array(x, dtype=float)\n",
    "    b = np.array(y, dtype=float)\n",
    "    c = np.zeros(n * (n+1)/2)\n",
    "    fail = util.noisy_fail()\n",
    "    e01.nag_1d_aitken_interp(n, a, b, c, xi, fail)\n",
    "    return c[-1]"
   ]
  },
  {
   "cell_type": "code",
   "execution_count": 134,
   "metadata": {
    "collapsed": true
   },
   "outputs": [],
   "source": [
    "def mono_inter(x, y, xi):\n",
    "    n = len(x)\n",
    "    d = np.zeros(n)\n",
    "    fail = util.noisy_fail()\n",
    "    e01.nag_monotonic_interpolant(n, x, y, d, fail)\n",
    "    m = len(xi)\n",
    "    px = xi\n",
    "    pf = np.zeros(m)\n",
    "    fail = util.noisy_fail()\n",
    "    e01.nag_monotonic_evaluate(n, x, y, d, m, px, pf, fail)\n",
    "    return pf"
   ]
  },
  {
   "cell_type": "markdown",
   "metadata": {},
   "source": [
    "###Convert datetime to float and save the missing prices to a list"
   ]
  },
  {
   "cell_type": "code",
   "execution_count": 135,
   "metadata": {
    "collapsed": false
   },
   "outputs": [],
   "source": [
    "c = []\n",
    "x_mono = []\n",
    "x = date.values.astype(float)\n",
    "for i in range(0,len(missing_dates.values)):\n",
    "    xi = missing_dates.values.astype(float)[i]\n",
    "    x_mono.append(missing_dates.values.astype(float)[i])\n",
    "    c.append(interpolate(x, price, xi))"
   ]
  },
  {
   "cell_type": "code",
   "execution_count": 136,
   "metadata": {
    "collapsed": false
   },
   "outputs": [],
   "source": [
    "c_mono = mono_inter(x, price, np.array(x_mono))"
   ]
  },
  {
   "cell_type": "code",
   "execution_count": 137,
   "metadata": {
    "collapsed": false
   },
   "outputs": [],
   "source": [
    "c_mono_list = c_mono.tolist()"
   ]
  },
  {
   "cell_type": "markdown",
   "metadata": {},
   "source": [
    "###Insert the missing values into the data"
   ]
  },
  {
   "cell_type": "code",
   "execution_count": 138,
   "metadata": {
    "collapsed": false
   },
   "outputs": [],
   "source": [
    "for row in all_data.iterrows():\n",
    "    if pd.isnull(row[1]['Close']):\n",
    "        #row[1]['Close'] = c.pop(0)\n",
    "        row[1]['Close'] = c_mono_list.pop(0)"
   ]
  },
  {
   "cell_type": "markdown",
   "metadata": {},
   "source": [
    "###Plot the difference between the original and modified datasets"
   ]
  },
  {
   "cell_type": "code",
   "execution_count": 139,
   "metadata": {
    "collapsed": false
   },
   "outputs": [],
   "source": [
    "fig = plt.figure()\n",
    "plt.plot(date, price)\n",
    "plt.plot(all_data.index, all_data['Close'])\n",
    "plt.show()"
   ]
  },
  {
   "cell_type": "markdown",
   "metadata": {},
   "source": [
    "###Calculate the changepoints for the modified dataset"
   ]
  },
  {
   "cell_type": "code",
   "execution_count": 140,
   "metadata": {
    "collapsed": false
   },
   "outputs": [],
   "source": [
    "ctype = g13.Nag_TS_ChangeType()\n",
    "ctype = 2991\n",
    "n = len(all_data['Close'])\n",
    "beta = 1 * np.log(n)\n",
    "minss = 2\n",
    "param = np.ndarray(1)\n",
    "param[0] = 1.0\n",
    "ntau = np.zeros(n, dtype=int)\n",
    "tau = np.zeros(n, dtype=int)\n",
    "sparam = np.zeros(2*n+2)\n",
    "fail = util.noisy_fail()\n",
    "g13.nag_tsa_cp_pelt(ctype, n, np.array(all_data['Close'].values), beta, minss, param, ntau, tau, sparam, fail)"
   ]
  },
  {
   "cell_type": "markdown",
   "metadata": {
    "collapsed": false
   },
   "source": [
    "###Get the changepoints, mean and std"
   ]
  },
  {
   "cell_type": "code",
   "execution_count": 141,
   "metadata": {
    "collapsed": false
   },
   "outputs": [],
   "source": [
    "m = ntau[0]\n",
    "change_points = [0]\n",
    "mean = []\n",
    "std = []\n",
    "for i in range(0, m):\n",
    "    change_points.append(tau[i])\n",
    "for i in range(0, m):\n",
    "    mean.append(sparam[2*(i+1)-2])\n",
    "    std.append(sparam[2*(i+1)-1])\n",
    "change_points.pop()\n",
    "change_points_std = change_points\n",
    "change_points_std.append(len(all_data['Close'].values)-1)\n",
    "std.append(std[-1])\n",
    "mean.append(mean[-1])"
   ]
  },
  {
   "cell_type": "markdown",
   "metadata": {
    "collapsed": false
   },
   "source": [
    "###Plot the results"
   ]
  },
  {
   "cell_type": "code",
   "execution_count": 142,
   "metadata": {
    "collapsed": false
   },
   "outputs": [],
   "source": [
    "plt.plot(all_dates, all_data['Close'].values, 'g')\n",
    "for change_point in change_points:\n",
    "    plt.axvline(all_dates[change_point], color = 'r')\n",
    "plt.step(all_dates[change_points_std], std, where='post')\n",
    "plt.show()"
   ]
  },
  {
   "cell_type": "code",
   "execution_count": null,
   "metadata": {
    "collapsed": false
   },
   "outputs": [],
   "source": []
  },
  {
   "cell_type": "code",
   "execution_count": null,
   "metadata": {
    "collapsed": true
   },
   "outputs": [],
   "source": []
  }
 ],
 "metadata": {
  "kernelspec": {
   "display_name": "Python 2",
   "language": "python",
   "name": "python2"
  },
  "language_info": {
   "codemirror_mode": {
    "name": "ipython",
    "version": 2
   },
   "file_extension": ".py",
   "mimetype": "text/x-python",
   "name": "python",
   "nbconvert_exporter": "python",
   "pygments_lexer": "ipython2",
   "version": "2.7.10"
  }
 },
 "nbformat": 4,
 "nbformat_minor": 0
}
