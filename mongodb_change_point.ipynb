{
 "cells": [
  {
   "cell_type": "markdown",
   "metadata": {},
   "source": [
    "###Import python modules"
   ]
  },
  {
   "cell_type": "code",
   "execution_count": 1,
   "metadata": {
    "collapsed": true
   },
   "outputs": [],
   "source": [
    "import nag4py.g13 as g13\n",
    "import pandas as pd\n",
    "import numpy as np\n",
    "import nag4py.util as util\n",
    "import matplotlib.pyplot as plt\n",
    "import nag4py.e01 as e01\n",
    "import pymongo\n",
    "from bson import json_util\n",
    "from time import strptime\n",
    "%matplotlib inline  "
   ]
  },
  {
   "cell_type": "markdown",
   "metadata": {},
   "source": [
    "###Set name of stock"
   ]
  },
  {
   "cell_type": "code",
   "execution_count": 2,
   "metadata": {
    "collapsed": true
   },
   "outputs": [],
   "source": [
    "stock_name = 'volkswagen'"
   ]
  },
  {
   "cell_type": "markdown",
   "metadata": {},
   "source": [
    "#Create Mongodb (This would already exist in a normal setup)"
   ]
  },
  {
   "cell_type": "markdown",
   "metadata": {},
   "source": [
    "###Read in csv file downloaded from Yahoo historic stock prices"
   ]
  },
  {
   "cell_type": "code",
   "execution_count": 3,
   "metadata": {
    "collapsed": false
   },
   "outputs": [],
   "source": [
    "data = pd.read_csv('{}.csv'.format(stock_name))"
   ]
  },
  {
   "cell_type": "markdown",
   "metadata": {},
   "source": [
    "###Convert date to datetime datatype and set as index"
   ]
  },
  {
   "cell_type": "code",
   "execution_count": 4,
   "metadata": {
    "collapsed": false
   },
   "outputs": [],
   "source": [
    "data['Date'] = pd.to_datetime(data['Date'], format=\"%d/%m/%Y\")\n",
    "data = data.set_index('Date')"
   ]
  },
  {
   "cell_type": "markdown",
   "metadata": {},
   "source": [
    "###Open a connection to the mongo client. The client (mongod) must be running."
   ]
  },
  {
   "cell_type": "code",
   "execution_count": 5,
   "metadata": {
    "collapsed": true
   },
   "outputs": [],
   "source": [
    "client = pymongo.MongoClient()"
   ]
  },
  {
   "cell_type": "markdown",
   "metadata": {},
   "source": [
    "###Select the Database"
   ]
  },
  {
   "cell_type": "code",
   "execution_count": 6,
   "metadata": {
    "collapsed": true
   },
   "outputs": [],
   "source": [
    "db = client.stock"
   ]
  },
  {
   "cell_type": "markdown",
   "metadata": {},
   "source": [
    "###Load the specific collection"
   ]
  },
  {
   "cell_type": "code",
   "execution_count": 7,
   "metadata": {
    "collapsed": false
   },
   "outputs": [],
   "source": [
    "collection = db['{}'.format(stock_name)]"
   ]
  },
  {
   "cell_type": "markdown",
   "metadata": {},
   "source": [
    "###Populate the collection (First we drop the collection so that it is empty)"
   ]
  },
  {
   "cell_type": "code",
   "execution_count": 8,
   "metadata": {
    "collapsed": false
   },
   "outputs": [],
   "source": [
    "collection.drop()\n",
    "for date in data.index.values:\n",
    "    post = {\"Date\":\"{}\".format(date),\n",
    "           \"Close\":float(\"{}\".format(data.ix[date]['Close'])),\n",
    "           \"Adj Close\":float(\"{}\".format(data.ix[date]['Adj Close'])),\n",
    "           \"High\":float(\"{}\".format(data.ix[date]['High'])),\n",
    "           \"Low\":float(\"{}\".format(data.ix[date]['Low'])),\n",
    "           \"Open\":float(\"{}\".format(data.ix[date]['Open'])),\n",
    "           \"Volume\":float(\"{}\".format(data.ix[date]['Volume']))}\n",
    "    collection.insert_one(post).inserted_id"
   ]
  },
  {
   "cell_type": "markdown",
   "metadata": {},
   "source": [
    "#Reading Mongodb data"
   ]
  },
  {
   "cell_type": "markdown",
   "metadata": {},
   "source": [
    "###Put Collection into DataFrame and set the 'Date' as the index"
   ]
  },
  {
   "cell_type": "code",
   "execution_count": 9,
   "metadata": {
    "collapsed": false
   },
   "outputs": [],
   "source": [
    "data = pd.DataFrame(list(collection.find())).set_index('Date')"
   ]
  },
  {
   "cell_type": "markdown",
   "metadata": {},
   "source": [
    "###Change some datatypes"
   ]
  },
  {
   "cell_type": "code",
   "execution_count": 10,
   "metadata": {
    "collapsed": false
   },
   "outputs": [],
   "source": [
    "data['_id'] = data['_id'].astype(str)"
   ]
  },
  {
   "cell_type": "code",
   "execution_count": 11,
   "metadata": {
    "collapsed": false
   },
   "outputs": [],
   "source": [
    "data = data.set_index(data.index.astype('datetime64'))"
   ]
  },
  {
   "cell_type": "markdown",
   "metadata": {},
   "source": [
    "###Rename column"
   ]
  },
  {
   "cell_type": "code",
   "execution_count": 12,
   "metadata": {
    "collapsed": false
   },
   "outputs": [],
   "source": [
    "data = data.rename(columns = {'_id': 'ID'})"
   ]
  },
  {
   "cell_type": "markdown",
   "metadata": {},
   "source": [
    "#Calculate Change Points"
   ]
  },
  {
   "cell_type": "markdown",
   "metadata": {},
   "source": [
    "The PELT algorithm assumes that the data is univariate (evenly spaced).\n",
    "\n",
    "The stock prices have gaps for holidays and other reasons. Therefore, the gaps must be filled, by interpolated data, before performing the change point analysis."
   ]
  },
  {
   "cell_type": "code",
   "execution_count": 28,
   "metadata": {
    "collapsed": true
   },
   "outputs": [],
   "source": [
    "known_dates = data.index.order()"
   ]
  },
  {
   "cell_type": "markdown",
   "metadata": {},
   "source": [
    "####Select the price to do the change point analysis on, i.e. High, Close, Low, Open"
   ]
  },
  {
   "cell_type": "code",
   "execution_count": 29,
   "metadata": {
    "collapsed": false
   },
   "outputs": [],
   "source": [
    "price_type = 'High'\n",
    "known_prices = getattr(data, price_type).sort_index().values"
   ]
  },
  {
   "cell_type": "markdown",
   "metadata": {},
   "source": [
    "###Determine all the dates between the first and last piece of data"
   ]
  },
  {
   "cell_type": "code",
   "execution_count": 30,
   "metadata": {
    "collapsed": false
   },
   "outputs": [],
   "source": [
    "all_dates = pd.date_range(known_dates[0], known_dates[-1])"
   ]
  },
  {
   "cell_type": "markdown",
   "metadata": {},
   "source": [
    "###Reindex the data with all the dates"
   ]
  },
  {
   "cell_type": "code",
   "execution_count": 31,
   "metadata": {
    "collapsed": true
   },
   "outputs": [],
   "source": [
    "all_data = data.reindex(all_dates)"
   ]
  },
  {
   "cell_type": "markdown",
   "metadata": {},
   "source": [
    "###Determine the missing dates"
   ]
  },
  {
   "cell_type": "code",
   "execution_count": 32,
   "metadata": {
    "collapsed": false
   },
   "outputs": [],
   "source": [
    "missing_dates = all_dates.difference(known_dates)"
   ]
  },
  {
   "cell_type": "markdown",
   "metadata": {},
   "source": [
    "###Define a wrapper function for the NAG monoticity preserving interpolating routine"
   ]
  },
  {
   "cell_type": "code",
   "execution_count": 33,
   "metadata": {
    "collapsed": false
   },
   "outputs": [],
   "source": [
    "def mono_inter(x, y, md):\n",
    "    \"\"\"This function calcuates the missing prices from the known dates, known prices and missing dates. \n",
    "        x is the known dates\n",
    "        y is the known prices\n",
    "        md is the missing dates\"\"\"\n",
    "    d = np.zeros(len(x))\n",
    "    fail = util.noisy_fail()\n",
    "    e01.nag_monotonic_interpolant(len(x), x, y, d, fail)\n",
    "    m = len(md)\n",
    "    mp = np.zeros(len(md))\n",
    "    fail = util.noisy_fail()\n",
    "    e01.nag_monotonic_evaluate(len(x), x, y, d, len(md), md, mp, fail)\n",
    "    return mp"
   ]
  },
  {
   "cell_type": "markdown",
   "metadata": {},
   "source": [
    "###Calculate the missing prices"
   ]
  },
  {
   "cell_type": "code",
   "execution_count": 34,
   "metadata": {
    "collapsed": false
   },
   "outputs": [],
   "source": [
    "missing_prices = mono_inter(known_dates.values.astype(float), known_prices, missing_dates.values.astype(float))"
   ]
  },
  {
   "cell_type": "markdown",
   "metadata": {},
   "source": [
    "###Merge the missing prices and the known data"
   ]
  },
  {
   "cell_type": "code",
   "execution_count": 35,
   "metadata": {
    "collapsed": false
   },
   "outputs": [],
   "source": [
    "missing_prices_list = missing_prices.tolist()\n",
    "for row in all_data.iterrows():\n",
    "    if pd.isnull(row[1][price_type]):\n",
    "        all_data.loc[row[0], price_type] = missing_prices_list.pop(0)"
   ]
  },
  {
   "cell_type": "markdown",
   "metadata": {},
   "source": [
    "###Plot the complete dataset"
   ]
  },
  {
   "cell_type": "code",
   "execution_count": 36,
   "metadata": {
    "collapsed": false,
    "scrolled": false
   },
   "outputs": [
    {
     "data": {
      "image/png": "[encoded data removed]",
      "text/plain": [
       "<matplotlib.figure.Figure at 0xcc4f240>"
      ]
     },
     "metadata": {},
     "output_type": "display_data"
    }
   ],
   "source": [
    "fig = plt.figure()\n",
    "fig.set_size_inches(16, 10)\n",
    "plt.plot(all_data.index, all_data[price_type], 'g')\n",
    "plt.title('Volkswagen Stock Price with Interpolated Values')\n",
    "plt.ylabel('Euro '+u\"(\\u20AC)\")\n",
    "plt.xlabel('Date')\n",
    "plt.show()"
   ]
  },
  {
   "cell_type": "markdown",
   "metadata": {},
   "source": [
    "#Apply the PELT algorithm to the complete data set"
   ]
  },
  {
   "cell_type": "markdown",
   "metadata": {},
   "source": [
    "###Define some parameters"
   ]
  },
  {
   "cell_type": "code",
   "execution_count": 37,
   "metadata": {
    "collapsed": false
   },
   "outputs": [],
   "source": [
    "dist = g13.Nag_TS_ChangeType()\n",
    "dist_change_point_type_dict = {'Nag_NormalMean': 2990, \n",
    "                              'Nag_NormalStd': 2991, \n",
    "                              'Nag_NormalMeanStd': 2992, \n",
    "                              'Nag_GammaScale': 2993, \n",
    "                              'Nag_ExponentialLambda': 2994, \n",
    "                              'Nag_PoissonLambda': 2995}\n",
    "dist_change_point_type = 'Nag_NormalMean'\n",
    "dist = dist_change_point_type_dict[dist_change_point_type]"
   ]
  },
  {
   "cell_type": "markdown",
   "metadata": {},
   "source": [
    "###Define the penalty term"
   ]
  },
  {
   "cell_type": "code",
   "execution_count": 38,
   "metadata": {
    "collapsed": true
   },
   "outputs": [],
   "source": [
    "def penalty_term(dist_change_point_type, time_series_len, penalty_method = 'SIC'):\n",
    "    if dist_change_point_type == 'Nag_NormalMeanStd':\n",
    "        p = 2\n",
    "    else:\n",
    "        p = 1\n",
    "    penalty_method_dict = {'SIC': p * np.log(time_series_len), \n",
    "                           'BIC': p * np.log(time_series_len), \n",
    "                           'AIC': p * 2, \n",
    "                           'Hannan-Quinn': 2 * p * np.log(np.log(time_series_len))}\n",
    "    return penalty_method_dict[penalty_method]"
   ]
  },
  {
   "cell_type": "markdown",
   "metadata": {},
   "source": [
    "### Calculate the Standard Deviation"
   ]
  },
  {
   "cell_type": "code",
   "execution_count": 39,
   "metadata": {
    "collapsed": false
   },
   "outputs": [],
   "source": [
    "n = len(all_data[price_type])\n",
    "m = n\n",
    "sd = np.zeros(n/m, dtype=np.float64)\n",
    "mean = np.zeros(n/m, dtype=np.float64)\n",
    "fail = util.noisy_fail()\n",
    "g13.nag_tsa_mean_range(len(all_data[price_type]), np.array(all_data[price_type].values), m, util.Nag_UseSD, sd, mean, fail)\n",
    "if fail.iflag != 0:\n",
    "    print fail.message"
   ]
  },
  {
   "cell_type": "markdown",
   "metadata": {},
   "source": [
    "###Calculate the changepoints"
   ]
  },
  {
   "cell_type": "code",
   "execution_count": 40,
   "metadata": {
    "collapsed": false
   },
   "outputs": [],
   "source": [
    "beta = penalty_term(dist_change_point_type, n, 'SIC')\n",
    "minss = 2\n",
    "param = np.ndarray(1)\n",
    "param[0] = sd[0]\n",
    "ntau = np.zeros(n, dtype=int)\n",
    "tau = np.zeros(n, dtype=int)\n",
    "sparam = np.zeros(2*n+2)\n",
    "fail = util.noisy_fail()\n",
    "g13.nag_tsa_cp_pelt(dist, n, np.array(all_data[price_type].values), beta, minss, param, ntau, tau, sparam, fail)\n",
    "if fail.iflag != 0:\n",
    "    print fail.message"
   ]
  },
  {
   "cell_type": "markdown",
   "metadata": {},
   "source": [
    "###Store the mean value between the changepoints"
   ]
  },
  {
   "cell_type": "code",
   "execution_count": 41,
   "metadata": {
    "collapsed": false
   },
   "outputs": [],
   "source": [
    "m = ntau[0]\n",
    "change_points = [0]\n",
    "mean = []\n",
    "std = []\n",
    "for i in range(0, m):\n",
    "    change_points.append(tau[i])\n",
    "for i in range(0, m):\n",
    "    mean.append(sparam[2*(i+1)-2])\n",
    "    std.append(sparam[2*(i+1)-1])\n",
    "change_points.pop()\n",
    "change_points_m = change_points\n",
    "change_points_m.append(len(all_data[price_type].values)-1)\n",
    "std.append(std[-1])\n",
    "mean.append(mean[-1])"
   ]
  },
  {
   "cell_type": "markdown",
   "metadata": {},
   "source": [
    "###Plot the Changepoints and the mean value between"
   ]
  },
  {
   "cell_type": "code",
   "execution_count": 43,
   "metadata": {
    "collapsed": false
   },
   "outputs": [
    {
     "data": {
      "image/png": "[encoded data removed]",
      "text/plain": [
       "<matplotlib.figure.Figure at 0xd388630>"
      ]
     },
     "metadata": {},
     "output_type": "display_data"
    }
   ],
   "source": [
    "fig = plt.figure()\n",
    "fig.set_size_inches(16, 10)\n",
    "plt.plot(all_dates, all_data[price_type].values, 'g')\n",
    "for change_point in change_points:\n",
    "    plt.axvline(all_dates[change_point], color = 'r')\n",
    "plt.step(all_dates[change_points_m], mean, where='post')\n",
    "plt.title('Volkswagen Stock Price with Interpolated Values and Changepoints')\n",
    "plt.ylabel('Euro '+u\"(\\u20AC)\")\n",
    "plt.xlabel('Date')\n",
    "plt.show()"
   ]
  },
  {
   "cell_type": "code",
   "execution_count": null,
   "metadata": {
    "collapsed": true
   },
   "outputs": [],
   "source": []
  }
 ],
 "metadata": {
  "kernelspec": {
   "display_name": "Python 2",
   "language": "python",
   "name": "python2"
  },
  "language_info": {
   "codemirror_mode": {
    "name": "ipython",
    "version": 2
   },
   "file_extension": ".py",
   "mimetype": "text/x-python",
   "name": "python",
   "nbconvert_exporter": "python",
   "pygments_lexer": "ipython2",
   "version": "2.7.10"
  }
 },
 "nbformat": 4,
 "nbformat_minor": 0
}
